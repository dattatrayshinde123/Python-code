{
  "nbformat": 4,
  "nbformat_minor": 0,
  "metadata": {
    "colab": {
      "provenance": [],
      "authorship_tag": "ABX9TyM5yd8hk55zr00Xk/JxOZAN",
      "include_colab_link": true
    },
    "kernelspec": {
      "name": "python3",
      "display_name": "Python 3"
    },
    "language_info": {
      "name": "python"
    }
  },
  "cells": [
    {
      "cell_type": "markdown",
      "metadata": {
        "id": "view-in-github",
        "colab_type": "text"
      },
      "source": [
        "<a href=\"https://colab.research.google.com/github/dattatrayshinde123/Python-code/blob/main/Text_Summarization_By_NLP.ipynb\" target=\"_parent\"><img src=\"https://colab.research.google.com/assets/colab-badge.svg\" alt=\"Open In Colab\"/></a>"
      ]
    },
    {
      "cell_type": "code",
      "execution_count": 12,
      "metadata": {
        "id": "68_-N1w9kXV7"
      },
      "outputs": [],
      "source": [
        "paragraph=\"However, despite the critical role they play,\\\n",
        "small and medium NPOs commonly face significant challenges that limit their effectiveness. \\\n",
        "These range from a lack of capacity-building opportunities and inadequate access to funding to several regulatory hurdles.\\\n",
        "This leaves NPOs with fewer resources to carry out their work, forcing them to explore alternative ways of generating revenue.\\\n",
        "This may involve engaging in social enterprise activities alongside delivering their core programmes. \\\n",
        "To understand how NPOs perceive systems thinking, and what needs to change so as to enable them to effectively design,implement, and steer systems change initiatives, AVPN initiated a landscaping study in partnership with Arthan Foundation.\""
      ]
    },
    {
      "cell_type": "code",
      "source": [
        "import spacy\n",
        "from spacy.lang.en.stop_words import STOP_WORDS\n",
        "from string import punctuation"
      ],
      "metadata": {
        "id": "c5ljYffokbc-"
      },
      "execution_count": 13,
      "outputs": []
    },
    {
      "cell_type": "code",
      "source": [
        "nlp=spacy.load('en_core_web_sm')"
      ],
      "metadata": {
        "id": "5WDoUbkVkfvx"
      },
      "execution_count": 14,
      "outputs": []
    },
    {
      "cell_type": "code",
      "source": [
        "doc=nlp(paragraph)\n",
        "\n",
        "token=[token for token in doc]\n",
        "\n",
        "#"
      ],
      "metadata": {
        "id": "8B1ekg9GkmGc"
      },
      "execution_count": 15,
      "outputs": []
    },
    {
      "cell_type": "code",
      "source": [
        "punctuation=punctuation+'\\n'\n",
        "#"
      ],
      "metadata": {
        "id": "j91VkJADkxiU"
      },
      "execution_count": 16,
      "outputs": []
    },
    {
      "cell_type": "code",
      "source": [
        "punctuation"
      ],
      "metadata": {
        "colab": {
          "base_uri": "https://localhost:8080/",
          "height": 36
        },
        "id": "vJSAReQJlN4H",
        "outputId": "11b642f4-74b2-48d4-f32d-dccbee2113df"
      },
      "execution_count": 17,
      "outputs": [
        {
          "output_type": "execute_result",
          "data": {
            "text/plain": [
              "'!\"#$%&\\'()*+,-./:;<=>?@[\\\\]^_`{|}~\\n'"
            ],
            "application/vnd.google.colaboratory.intrinsic+json": {
              "type": "string"
            }
          },
          "metadata": {},
          "execution_count": 17
        }
      ]
    },
    {
      "cell_type": "code",
      "source": [
        "# Word Frequncy count\n",
        "\n",
        "word_freq={}\n",
        "\n",
        "stop_words=list(STOP_WORDS)\n",
        "\n",
        "for word in doc:\n",
        "    if word.text.lower() not in stop_words:\n",
        "        if word.text.lower() not in punctuation:\n",
        "            if word.text not in word_freq.keys():\n",
        "                word_freq[word.text]=1\n",
        "\n",
        "            else:\n",
        "                word_freq[word.text]+=1\n",
        "\n",
        "word_freq\n",
        ""
      ],
      "metadata": {
        "colab": {
          "base_uri": "https://localhost:8080/"
        },
        "id": "9Q4eyxvRlQgr",
        "outputId": "3dd51445-9e67-4ac4-f68e-6721fb1733fc"
      },
      "execution_count": 18,
      "outputs": [
        {
          "output_type": "execute_result",
          "data": {
            "text/plain": [
              "{'despite': 1,\n",
              " 'critical': 1,\n",
              " 'role': 1,\n",
              " 'play': 1,\n",
              " 'small': 1,\n",
              " 'medium': 1,\n",
              " 'NPOs': 3,\n",
              " 'commonly': 1,\n",
              " 'face': 1,\n",
              " 'significant': 1,\n",
              " 'challenges': 1,\n",
              " 'limit': 1,\n",
              " 'effectiveness': 1,\n",
              " 'range': 1,\n",
              " 'lack': 1,\n",
              " 'capacity': 1,\n",
              " 'building': 1,\n",
              " 'opportunities': 1,\n",
              " 'inadequate': 1,\n",
              " 'access': 1,\n",
              " 'funding': 1,\n",
              " 'regulatory': 1,\n",
              " 'hurdles': 1,\n",
              " 'leaves': 1,\n",
              " 'fewer': 1,\n",
              " 'resources': 1,\n",
              " 'carry': 1,\n",
              " 'work': 1,\n",
              " 'forcing': 1,\n",
              " 'explore': 1,\n",
              " 'alternative': 1,\n",
              " 'ways': 1,\n",
              " 'generating': 1,\n",
              " 'revenue': 1,\n",
              " 'involve': 1,\n",
              " 'engaging': 1,\n",
              " 'social': 1,\n",
              " 'enterprise': 1,\n",
              " 'activities': 1,\n",
              " 'alongside': 1,\n",
              " 'delivering': 1,\n",
              " 'core': 1,\n",
              " 'programmes': 1,\n",
              " 'understand': 1,\n",
              " 'perceive': 1,\n",
              " 'systems': 2,\n",
              " 'thinking': 1,\n",
              " 'needs': 1,\n",
              " 'change': 2,\n",
              " 'enable': 1,\n",
              " 'effectively': 1,\n",
              " 'design': 1,\n",
              " 'implement': 1,\n",
              " 'steer': 1,\n",
              " 'initiatives': 1,\n",
              " 'AVPN': 1,\n",
              " 'initiated': 1,\n",
              " 'landscaping': 1,\n",
              " 'study': 1,\n",
              " 'partnership': 1,\n",
              " 'Arthan': 1,\n",
              " 'Foundation': 1}"
            ]
          },
          "metadata": {},
          "execution_count": 18
        }
      ]
    },
    {
      "cell_type": "code",
      "source": [
        "# assign word frequency in desending order\n",
        "\n",
        "max_freq=max(word_freq.values())\n",
        "for word in word_freq.keys():\n",
        "    word_freq[word]=word_freq[word]/max_freq"
      ],
      "metadata": {
        "id": "r3FDEo9bn36D"
      },
      "execution_count": 19,
      "outputs": []
    },
    {
      "cell_type": "code",
      "source": [
        "word_freq\n"
      ],
      "metadata": {
        "colab": {
          "base_uri": "https://localhost:8080/"
        },
        "id": "seyAcGZhogM3",
        "outputId": "f269ffec-5a2e-4d09-a0a7-e4600b47533a"
      },
      "execution_count": 20,
      "outputs": [
        {
          "output_type": "execute_result",
          "data": {
            "text/plain": [
              "{'despite': 0.3333333333333333,\n",
              " 'critical': 0.3333333333333333,\n",
              " 'role': 0.3333333333333333,\n",
              " 'play': 0.3333333333333333,\n",
              " 'small': 0.3333333333333333,\n",
              " 'medium': 0.3333333333333333,\n",
              " 'NPOs': 1.0,\n",
              " 'commonly': 0.3333333333333333,\n",
              " 'face': 0.3333333333333333,\n",
              " 'significant': 0.3333333333333333,\n",
              " 'challenges': 0.3333333333333333,\n",
              " 'limit': 0.3333333333333333,\n",
              " 'effectiveness': 0.3333333333333333,\n",
              " 'range': 0.3333333333333333,\n",
              " 'lack': 0.3333333333333333,\n",
              " 'capacity': 0.3333333333333333,\n",
              " 'building': 0.3333333333333333,\n",
              " 'opportunities': 0.3333333333333333,\n",
              " 'inadequate': 0.3333333333333333,\n",
              " 'access': 0.3333333333333333,\n",
              " 'funding': 0.3333333333333333,\n",
              " 'regulatory': 0.3333333333333333,\n",
              " 'hurdles': 0.3333333333333333,\n",
              " 'leaves': 0.3333333333333333,\n",
              " 'fewer': 0.3333333333333333,\n",
              " 'resources': 0.3333333333333333,\n",
              " 'carry': 0.3333333333333333,\n",
              " 'work': 0.3333333333333333,\n",
              " 'forcing': 0.3333333333333333,\n",
              " 'explore': 0.3333333333333333,\n",
              " 'alternative': 0.3333333333333333,\n",
              " 'ways': 0.3333333333333333,\n",
              " 'generating': 0.3333333333333333,\n",
              " 'revenue': 0.3333333333333333,\n",
              " 'involve': 0.3333333333333333,\n",
              " 'engaging': 0.3333333333333333,\n",
              " 'social': 0.3333333333333333,\n",
              " 'enterprise': 0.3333333333333333,\n",
              " 'activities': 0.3333333333333333,\n",
              " 'alongside': 0.3333333333333333,\n",
              " 'delivering': 0.3333333333333333,\n",
              " 'core': 0.3333333333333333,\n",
              " 'programmes': 0.3333333333333333,\n",
              " 'understand': 0.3333333333333333,\n",
              " 'perceive': 0.3333333333333333,\n",
              " 'systems': 0.6666666666666666,\n",
              " 'thinking': 0.3333333333333333,\n",
              " 'needs': 0.3333333333333333,\n",
              " 'change': 0.6666666666666666,\n",
              " 'enable': 0.3333333333333333,\n",
              " 'effectively': 0.3333333333333333,\n",
              " 'design': 0.3333333333333333,\n",
              " 'implement': 0.3333333333333333,\n",
              " 'steer': 0.3333333333333333,\n",
              " 'initiatives': 0.3333333333333333,\n",
              " 'AVPN': 0.3333333333333333,\n",
              " 'initiated': 0.3333333333333333,\n",
              " 'landscaping': 0.3333333333333333,\n",
              " 'study': 0.3333333333333333,\n",
              " 'partnership': 0.3333333333333333,\n",
              " 'Arthan': 0.3333333333333333,\n",
              " 'Foundation': 0.3333333333333333}"
            ]
          },
          "metadata": {},
          "execution_count": 20
        }
      ]
    },
    {
      "cell_type": "code",
      "source": [
        "#sentence tokenization\n",
        "\n",
        "sent_tokens=[sent for sent in doc.sents]\n",
        "sent_tokens\n",
        "#"
      ],
      "metadata": {
        "colab": {
          "base_uri": "https://localhost:8080/"
        },
        "id": "LIKPLFjnpB6x",
        "outputId": "c408f3a0-0c05-4a27-d3ef-00bd10f8e82a"
      },
      "execution_count": 21,
      "outputs": [
        {
          "output_type": "execute_result",
          "data": {
            "text/plain": [
              "[However, despite the critical role they play,small and medium NPOs commonly face significant challenges that limit their effectiveness.,\n",
              " These range from a lack of capacity-building opportunities and inadequate access to funding to several regulatory hurdles.,\n",
              " This leaves NPOs with fewer resources to carry out their work, forcing them to explore alternative ways of generating revenue.,\n",
              " This may involve engaging in social enterprise activities alongside delivering their core programmes.,\n",
              " To understand how NPOs perceive systems thinking, and what needs to change so as to enable them to effectively design,implement, and steer systems change initiatives, AVPN initiated a landscaping study in partnership with Arthan Foundation.]"
            ]
          },
          "metadata": {},
          "execution_count": 21
        }
      ]
    },
    {
      "cell_type": "code",
      "source": [
        "# Sentence Tokenization\n",
        "sent_scores={}\n",
        "\n",
        "for sent in sent_tokens:\n",
        "  for word in sent:\n",
        "    if word.text.lower() in word_freq.keys():\n",
        "      if sent not in sent_scores.keys():\n",
        "        sent_scores[sent]=word_freq[word.text.lower()]\n",
        "      else:\n",
        "        sent_scores[sent]+=word_freq[word.text.lower()]"
      ],
      "metadata": {
        "id": "CkvTRcBIsLaJ"
      },
      "execution_count": 24,
      "outputs": []
    },
    {
      "cell_type": "code",
      "source": [
        "sent_scores\n",
        "#"
      ],
      "metadata": {
        "colab": {
          "base_uri": "https://localhost:8080/"
        },
        "id": "zTTMQJ_guYOQ",
        "outputId": "53a74659-8b53-4a4e-8030-0036023baa84"
      },
      "execution_count": 25,
      "outputs": [
        {
          "output_type": "execute_result",
          "data": {
            "text/plain": [
              "{However, despite the critical role they play,small and medium NPOs commonly face significant challenges that limit their effectiveness.: 4.0,\n",
              " These range from a lack of capacity-building opportunities and inadequate access to funding to several regulatory hurdles.: 3.3333333333333335,\n",
              " This leaves NPOs with fewer resources to carry out their work, forcing them to explore alternative ways of generating revenue.: 3.666666666666667,\n",
              " This may involve engaging in social enterprise activities alongside delivering their core programmes.: 3.0,\n",
              " To understand how NPOs perceive systems thinking, and what needs to change so as to enable them to effectively design,implement, and steer systems change initiatives, AVPN initiated a landscaping study in partnership with Arthan Foundation.: 7.333333333333332}"
            ]
          },
          "metadata": {},
          "execution_count": 25
        }
      ]
    },
    {
      "cell_type": "code",
      "source": [
        "# Select 30 % sentences with maximum score\n",
        "\n",
        "from heapq import nlargest"
      ],
      "metadata": {
        "id": "EXB6dQpOueen"
      },
      "execution_count": 26,
      "outputs": []
    },
    {
      "cell_type": "code",
      "source": [
        "len(sent_scores)*0.3"
      ],
      "metadata": {
        "colab": {
          "base_uri": "https://localhost:8080/"
        },
        "id": "s01g-NrgvRIh",
        "outputId": "b26db628-351b-41e9-b871-c38cd6830000"
      },
      "execution_count": 28,
      "outputs": [
        {
          "output_type": "execute_result",
          "data": {
            "text/plain": [
              "1.5"
            ]
          },
          "metadata": {},
          "execution_count": 28
        }
      ]
    },
    {
      "cell_type": "code",
      "source": [
        "#Getting summary of paragraph\n",
        "\n",
        "select_len=int(len(sent_scores)*0.3)\n",
        "select_len"
      ],
      "metadata": {
        "colab": {
          "base_uri": "https://localhost:8080/"
        },
        "id": "yrLNi1LOvUIL",
        "outputId": "08fbbffd-6655-4dba-dbcb-cfd79372bcab"
      },
      "execution_count": 29,
      "outputs": [
        {
          "output_type": "execute_result",
          "data": {
            "text/plain": [
              "1"
            ]
          },
          "metadata": {},
          "execution_count": 29
        }
      ]
    },
    {
      "cell_type": "code",
      "source": [
        "summary=nlargest(select_len,sent_scores,key=sent_scores.get)\n",
        "summary"
      ],
      "metadata": {
        "colab": {
          "base_uri": "https://localhost:8080/"
        },
        "id": "9gLfOlKHvdTw",
        "outputId": "5ea21605-faa4-4987-fac9-d15d86a20f1d"
      },
      "execution_count": 30,
      "outputs": [
        {
          "output_type": "execute_result",
          "data": {
            "text/plain": [
              "[To understand how NPOs perceive systems thinking, and what needs to change so as to enable them to effectively design,implement, and steer systems change initiatives, AVPN initiated a landscaping study in partnership with Arthan Foundation.]"
            ]
          },
          "metadata": {},
          "execution_count": 30
        }
      ]
    },
    {
      "cell_type": "code",
      "source": [
        "# combine together\n",
        "\n",
        "final_summary=[word.text for word in summary]\n",
        "final_summary"
      ],
      "metadata": {
        "colab": {
          "base_uri": "https://localhost:8080/"
        },
        "id": "CK5tpwiuvl4Q",
        "outputId": "e1e8de02-81f9-4dd0-d9a6-e9be5c21584d"
      },
      "execution_count": 31,
      "outputs": [
        {
          "output_type": "execute_result",
          "data": {
            "text/plain": [
              "['To understand how NPOs perceive systems thinking, and what needs to change so as to enable them to effectively design,implement, and steer systems change initiatives, AVPN initiated a landscaping study in partnership with Arthan Foundation.']"
            ]
          },
          "metadata": {},
          "execution_count": 31
        }
      ]
    },
    {
      "cell_type": "code",
      "source": [
        "#count the words in final summary"
      ],
      "metadata": {
        "colab": {
          "base_uri": "https://localhost:8080/"
        },
        "id": "G8097Eu_vsdF",
        "outputId": "1007ea2f-c6a5-4fb4-f721-3cf497c6fc6f"
      },
      "execution_count": 35,
      "outputs": [
        {
          "output_type": "execute_result",
          "data": {
            "text/plain": [
              "1"
            ]
          },
          "metadata": {},
          "execution_count": 35
        }
      ]
    },
    {
      "cell_type": "code",
      "source": [],
      "metadata": {
        "id": "ynz2MQwt1wQD"
      },
      "execution_count": null,
      "outputs": []
    }
  ]
}